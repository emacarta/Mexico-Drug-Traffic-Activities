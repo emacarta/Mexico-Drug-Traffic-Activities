{
 "cells": [
  {
   "cell_type": "code",
   "execution_count": null,
   "metadata": {},
   "outputs": [],
   "source": [
    "def metrics(network):\n",
    "    #CONTO DEGLI EDGE/LINK DELLA RETE \n",
    "    link = network.number_of_edges()\n",
    "    print('-> I link della rete sono:', link)\n",
    "\n",
    "    #DEGREE DEI NODI \n",
    "    print('\\n-> Calcolo il degree di ogni singolo nodo della rete:')\n",
    "\n",
    "    for node,degree in network.degree():\n",
    "        print('il nodo',node,'ha degree:',degree)\n",
    "    \n",
    "    somma_degree = sum(dict(network.degree()).values())\n",
    "    print('\\nLa somma dei node degree è:',somma_degree)\n",
    "    print('\\nL\\'average degree di questa network è:',somma_degree/(len(network)))\n",
    "    \n",
    "    #DENSITA'\n",
    "    print('\\n-> Densità della rete equivale a:',nx.density(network))\n",
    "\n",
    "    #MATRICE DI ADIACENZA PESATA\n",
    "    print('\\n-> MATRICE DI ADIACENZA PESATA') \n",
    "    m = nx.to_pandas_adjacency(network, nodelist=sorted(network.nodes), dtype=int)\n",
    "    m.to_excel('adjacency_matrix.xlsx')\n",
    "\n",
    "    #\n"
   ]
  }
 ],
 "metadata": {
  "language_info": {
   "name": "python"
  },
  "orig_nbformat": 4
 },
 "nbformat": 4,
 "nbformat_minor": 2
}
