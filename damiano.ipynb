{
 "cells": [
  {
   "cell_type": "markdown",
   "metadata": {},
   "source": [
    "### TIJUANA"
   ]
  },
  {
   "cell_type": "code",
   "execution_count": null,
   "metadata": {},
   "outputs": [],
   "source": [
    "net_tijuana_9000 = nx.Graph()\n",
    "sXy_tijuana_9000 = pd.read_csv('/Users/emanuele/Desktop/SNA/PROGETTO/state_year_Tijuana_T9000.txt')\n",
    "Network_Generator_For_Cartels(net_tijuana_9000,sXy_tijuana_9000,df_T9000,'Tijuana')"
   ]
  },
  {
   "cell_type": "code",
   "execution_count": null,
   "metadata": {},
   "outputs": [],
   "source": [
    "nt = Network('1000px', '1000px')\n",
    "nt.from_nx(net_tijuana_9000, default_edge_weight=3,show_edge_weights=True)\n",
    "nt.show('tijuana_9000.html')"
   ]
  },
  {
   "cell_type": "code",
   "execution_count": null,
   "metadata": {},
   "outputs": [],
   "source": [
    "all_weights=[]\n",
    "for (node1,node2,data) in net_tijuana_9000.edges(data=True):\n",
    "        all_weights.append(data['weight']) \n",
    "\n",
    "nodes_color=[]\n",
    "for (node1,data) in net_tijuana_9000.nodes(data=True):\n",
    "        nodes_color.append(data['color']) \n",
    "\n",
    "\n",
    "unique_weights = list(set(all_weights))\n",
    "\n",
    "pos = nx.spring_layout(net_tijuana_9000,seed=1234)\n",
    "\n",
    "for weight in unique_weights:\n",
    "        weighted_edges = [(node1,node2) for (node1,node2,edge_attr) in net_tijuana_9000.edges(data=True) if edge_attr['weight']==weight]\n",
    "        width = weight\n",
    "        nx.draw_networkx_edges(net_tijuana_9000,pos,edgelist=weighted_edges,width=width)\n",
    "\n",
    "nx.draw_networkx_nodes(net_tijuana_9000,pos,node_color=nodes_color, node_size=4000)\n",
    "nx.draw_networkx_labels(net_tijuana_9000,pos,font_size=15, font_family=\"sans-serif\")\n",
    "plt.rcParams[\"figure.figsize\"] = (25,25)\n",
    "\n",
    "pass"
   ]
  },
  {
   "cell_type": "code",
   "execution_count": null,
   "metadata": {},
   "outputs": [],
   "source": [
    "metrics(net_tijuana_9000,all_metrics=True)"
   ]
  },
  {
   "cell_type": "code",
   "execution_count": null,
   "metadata": {},
   "outputs": [],
   "source": [
    "net_tijuana_0010 = nx.Graph()\n",
    "sXy_tijuana_0010 = pd.read_csv('/Users/emanuele/Desktop/SNA/PROGETTO/state_year_Tijuana_T0010.txt')\n",
    "Network_Generator_For_Cartels(net_tijuana_0010,sXy_tijuana_0010,df_T0010,'Tijuana')"
   ]
  },
  {
   "cell_type": "code",
   "execution_count": null,
   "metadata": {},
   "outputs": [],
   "source": [
    "nt = Network('1000px','1000px')\n",
    "\n",
    "nt.from_nx(net_tijuana_0010)\n",
    "\n",
    "neighbor_map = nt.get_adj_list()\n",
    "nt.repulsion(node_distance=200, spring_length=80)\n",
    "\n",
    "for node in nt.edges:\n",
    "    node['weight'] = len(neighbor_map[node['id']])\n",
    "\n",
    "nt.show_buttons(filter_=True)\n",
    "nt.show('tijuana_0010.html')"
   ]
  },
  {
   "cell_type": "markdown",
   "metadata": {},
   "source": [
    "### ZETAS"
   ]
  },
  {
   "cell_type": "code",
   "execution_count": null,
   "metadata": {},
   "outputs": [],
   "source": [
    "net_zetas_9000 = nx.Graph()\n",
    "sXy_zetas_9000 = pd.read_csv('/Users/emanuele/Desktop/SNA/PROGETTO/state_year_Zetas_Z9000.txt')\n",
    "Network_Generator_For_Cartels(net_zetas_9000,sXy_zetas_9000,df_Z9000,'Zetas')"
   ]
  },
  {
   "cell_type": "code",
   "execution_count": null,
   "metadata": {},
   "outputs": [],
   "source": [
    "nt = Network('1000px', '1000px')\n",
    "nt.from_nx(net_zetas_9000, default_edge_weight=3,show_edge_weights=True)\n",
    "nt.show('zetas_9000.html')"
   ]
  },
  {
   "cell_type": "code",
   "execution_count": null,
   "metadata": {},
   "outputs": [],
   "source": [
    "all_weights=[]\n",
    "for (node1,node2,data) in net_zetas_9000.edges(data=True):\n",
    "        all_weights.append(data['weight']) \n",
    "\n",
    "nodes_color=[]\n",
    "for (node1,data) in net_zetas_9000.nodes(data=True):\n",
    "        nodes_color.append(data['color']) \n",
    "\n",
    "\n",
    "unique_weights = list(set(all_weights))\n",
    "\n",
    "pos = nx.spring_layout(net_zetas_9000,seed=1234)\n",
    "\n",
    "for weight in unique_weights:\n",
    "        weighted_edges = [(node1,node2) for (node1,node2,edge_attr) in net_zetas_9000.edges(data=True) if edge_attr['weight']==weight]\n",
    "        width = weight\n",
    "        nx.draw_networkx_edges(net_zetas_9000,pos,edgelist=weighted_edges,width=width)\n",
    "\n",
    "nx.draw_networkx_nodes(net_zetas_9000,pos,node_color=nodes_color, node_size=4000)\n",
    "nx.draw_networkx_labels(net_zetas_9000,pos,font_size=15, font_family=\"sans-serif\")\n",
    "plt.rcParams[\"figure.figsize\"] = (25,25)\n",
    "\n",
    "pass"
   ]
  },
  {
   "cell_type": "code",
   "execution_count": null,
   "metadata": {},
   "outputs": [],
   "source": [
    "metrics(net_zetas_9000,all_metrics=True)"
   ]
  },
  {
   "cell_type": "code",
   "execution_count": null,
   "metadata": {},
   "outputs": [],
   "source": [
    "net_zetas_0010 = nx.Graph()\n",
    "sXy_zetas_0010 = pd.read_csv('/Users/emanuele/Desktop/SNA/PROGETTO/state_year_Zetas_Z0010.txt')\n",
    "Network_Generator_For_Cartels(net_zetas_0010,sXy_zetas_0010,df_Z0010,'Zetas')"
   ]
  },
  {
   "cell_type": "code",
   "execution_count": null,
   "metadata": {},
   "outputs": [],
   "source": [
    "nt = Network('1000px','1000px')\n",
    "\n",
    "nt.from_nx(net_zetas_0010)\n",
    "\n",
    "neighbor_map = nt.get_adj_list()\n",
    "nt.repulsion(node_distance=200, spring_length=80)\n",
    "\n",
    "for node in nt.edges:\n",
    "    node['weight'] = len(neighbor_map[node['id']])\n",
    "\n",
    "nt.show_buttons(filter_=True)\n",
    "nt.show('zetas_0010.html')"
   ]
  },
  {
   "cell_type": "markdown",
   "metadata": {},
   "source": [
    "### OTROS"
   ]
  },
  {
   "cell_type": "code",
   "execution_count": null,
   "metadata": {},
   "outputs": [],
   "source": [
    "net_otros_0010 = nx.Graph()\n",
    "sXy_otros_0010 = pd.read_csv('/Users/emanuele/Desktop/SNA/PROGETTO/state_year_otros_O0010.txt')\n",
    "Network_Generator_For_Cartels(net_otros_0010,sXy_otros_0010,df_O0010,'Otros')"
   ]
  },
  {
   "cell_type": "code",
   "execution_count": null,
   "metadata": {},
   "outputs": [],
   "source": [
    "nt = Network('1000px','1000px')\n",
    "\n",
    "nt.from_nx(net_otros_0010)\n",
    "\n",
    "neighbor_map = nt.get_adj_list()\n",
    "nt.repulsion(node_distance=200, spring_length=80)\n",
    "\n",
    "for node in nt.edges:\n",
    "    node['weight'] = len(neighbor_map[node['id']])\n",
    "\n",
    "nt.show_buttons(filter_=True)\n",
    "nt.show('otros_0010.html')"
   ]
  }
 ],
 "metadata": {
  "language_info": {
   "name": "python"
  },
  "orig_nbformat": 4
 },
 "nbformat": 4,
 "nbformat_minor": 2
}
