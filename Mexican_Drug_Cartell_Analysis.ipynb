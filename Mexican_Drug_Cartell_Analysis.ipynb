{
 "cells": [
  {
   "cell_type": "markdown",
   "metadata": {},
   "source": [
    "# LIBRERIE"
   ]
  },
  {
   "cell_type": "code",
   "execution_count": 26,
   "metadata": {},
   "outputs": [],
   "source": [
    "import matplotlib.pyplot as plt\n",
    "import networkx as nx\n",
    "import pandas as pd"
   ]
  },
  {
   "cell_type": "markdown",
   "metadata": {},
   "source": [
    "# DATASET"
   ]
  },
  {
   "cell_type": "code",
   "execution_count": 27,
   "metadata": {},
   "outputs": [],
   "source": [
    "dataset = pd.read_csv('/Users/emanuele/Desktop/SNA/PROGETTO/DATASET/CosciaRios2012_DataBase.csv') #lettura del dataset\n",
    "dataset.drop('Code', axis=1, inplace=True) #rimuoviamo la collona dove sono presenti i codici \"provinciali\"\n",
    "dataset = dataset.groupby(['State','Year']).sum() #sommiamo le nostre istanze in base a Stato e Anno\n",
    "dataset.to_csv('Mexican_Drug_Cartels_dta.csv') #salviamo il dataset"
   ]
  },
  {
   "cell_type": "code",
   "execution_count": 28,
   "metadata": {},
   "outputs": [],
   "source": [
    "dataset = pd.read_csv('/Users/emanuele/Desktop/SNA/PROGETTO/Mexican_Drug_Cartels_dta.csv')\n",
    "#dividiamo il nostro datastet in due decadi \n",
    "dta_9000 = dataset[dataset.Year < 2000] #1990-1999\n",
    "dta_0010 = dataset[dataset.Year >= 2000 ] #2000-2010"
   ]
  },
  {
   "cell_type": "markdown",
   "metadata": {},
   "source": [
    "# FUNZIONI"
   ]
  },
  {
   "cell_type": "code",
   "execution_count": 31,
   "metadata": {},
   "outputs": [],
   "source": [
    "def Edges_Generator(dataset, name_txt, Qcartelli, stateL=False, yearL=False, yearXstate=False, cartelL=False,\n",
    "                    link_state_year=False):\n",
    "    #permette la creazione di edges partendo dal dataset di partenza\n",
    "\n",
    "    #esegue un check per vedere crearli su tutte le famiglie o su una in particolare\n",
    "    if Qcartelli == 'ALL':\n",
    "        cartelli = ['Beltran_Leyva', 'Beltran_Leyva_Family', 'Familia', 'Golfo', \n",
    "                    'Juarez', 'Sinaloa', 'Sinaloa_Family', 'Tijuana', 'Zetas', 'Otros']\n",
    "    else:\n",
    "        cartelli = []\n",
    "        cartelli.append(Qcartelli)\n",
    "\n",
    "    res_list = []\n",
    "    \n",
    "    for state in dataset.State.unique(): #creiuamo un subset per ogni stato in maniera ricorsiva\n",
    "        sub1 = dataset[dataset.State == state]\n",
    "\n",
    "        for year in sub1.Year: #creiuamo un subset per ogni anno in maniera ricorsiva\n",
    "            sub2 = sub1[sub1.Year == year]\n",
    "            \n",
    "            for single in cartelli:\n",
    "                value = sub2[single].iloc[0] #troviamo il numero di volte che il cartello è apparso\n",
    "                list = []\n",
    "\n",
    "                if value > 0 : #eseguiamo un controllo per sapere se creare o no il collegamento\n",
    "                    #in base alle impostazioni decise prendiamo PARTENZA(A), ARRIVO(B) e WEIGHT(W)\n",
    "                    if yearXstate == True:\n",
    "                        year_ = str(year)\n",
    "                        _state = str(state)\n",
    "                        year_state = str(year_ + '_' + _state)\n",
    "\n",
    "                    if stateL == True:\n",
    "                        list.append(state)\n",
    "                    \n",
    "                    if yearL == True:\n",
    "                        list.append(year)\n",
    "                    elif yearXstate == True:\n",
    "                        list.append(year_state)\n",
    "                    \n",
    "                    if Qcartelli == 'ALL':\n",
    "                        if cartelL == True:\n",
    "                            list.append(single)\n",
    "                    else:\n",
    "                        if cartelL == True:\n",
    "                            list.append(Qcartelli)\n",
    "                    \n",
    "                    if link_state_year == True:\n",
    "                        list.append(1)\n",
    "                    else:\n",
    "                        list.append(value)\n",
    "                    res_list.append(list)\n",
    "\n",
    "    #creiamo il file.txt con il nome deciso nelle impostazioni                    \n",
    "    name_file = str(name_txt + \".txt\")\n",
    "    file = open(name_file, \"w+\")\n",
    "\n",
    "    file.write('A'+',')\n",
    "    file.write('B'+',')\n",
    "    file.write('Weight'+'\\n')\n",
    "\n",
    "    for list in res_list:\n",
    "        time = 0\n",
    "        for element in list:\n",
    "            time = time + 1\n",
    "            e = str(element)\n",
    "            file.write(e)\n",
    "            if time < 3:\n",
    "                file.write(',')\n",
    "            else:\n",
    "                file.write('\\n')\n",
    "\n",
    "    file.close()\n",
    "\n",
    "    return(file)\n",
    "\n",
    "#----------------------------------------------------------------------------------------#\n",
    "\n",
    "def Edges_Generator_for_Cartel(name_cartel, cartel_sigla, years_9000=False, years_0010=False):\n",
    "\n",
    "    if years_9000 == True: #svolgo operazioni per gli anni 1990 - 1999\n",
    "        #assegno i nomi ai file tramite una concatenazione di stringhe\n",
    "        name_txt_9000_yXc = 'year_'+str(name_cartel)+'_'+str(cartel_sigla)+'9000'\n",
    "        name_txt_9000_sXy = 'state_year_'+str(name_cartel)+'_'+str(cartel_sigla)+'9000'\n",
    "        name_csv_9000 = str(name_cartel)+'_'+'9000'+'.csv'\n",
    "\n",
    "        #utilizzo la funzione creata in precesenza per generare gli edges\n",
    "        Edges_Generator(dta_9000,name_txt_9000_yXc, name_cartel, yearL=True,cartelL=True)\n",
    "        Edges_Generator(dta_9000,name_txt_9000_sXy, name_cartel, stateL=True, yearL=True,link_state_year=True)\n",
    "\n",
    "        name_txt_9000_yXc = name_txt_9000_yXc + '.txt'\n",
    "        name_txt_9000_sXy = name_txt_9000_sXy + '.txt'\n",
    "\n",
    "        #creo i percorsi delle per leggeere i file.txt sopra creati\n",
    "        percorso_cartella = '/Users/emanuele/Desktop/SNA/PROGETTO/'\n",
    "        percorso_1 = str(percorso_cartella) + str(name_txt_9000_sXy)\n",
    "        percorso_2 = str(percorso_cartella) + str(name_txt_9000_yXc)\n",
    "        percorso_3 = str(percorso_cartella) + str(name_csv_9000)\n",
    "\n",
    "        df_1 = pd.read_csv(str(percorso_1))\n",
    "        df_2 = pd.read_csv(str(percorso_2))\n",
    "        df_2 = df_2.groupby(['A','B']).sum() #effettuo una somma in base ad anno e cartello\n",
    "        df_2.to_csv(name_csv_9000) \n",
    "        df_2 = pd.read_csv(percorso_3)\n",
    "        df = pd.concat([df_1,df_2],ignore_index=True, sort=False) #unisco le due liste di edges\n",
    "    \n",
    "    elif years_0010 == True: #svolgo le stesse operazioni per gli anni fra 2000 e 2010\n",
    "        name_txt_0010_yXc = 'year_'+str(name_cartel)+'_'+str(cartel_sigla)+'0010'\n",
    "        name_txt_0010_sXy = 'state_year_'+str(name_cartel)+'_'+str(cartel_sigla)+'0010'\n",
    "        name_csv_0010 = str(name_cartel)+'_'+'0010'+'.csv'\n",
    "\n",
    "        Edges_Generator(dta_0010,name_txt_0010_yXc, name_cartel, yearL=True,cartelL=True)\n",
    "        Edges_Generator(dta_0010,name_txt_0010_sXy, name_cartel, stateL=True, yearL=True,link_state_year=True)\n",
    "\n",
    "        name_txt_0010_yXc = name_txt_0010_yXc + '.txt'\n",
    "        name_txt_0010_sXy = name_txt_0010_sXy + '.txt'\n",
    "\n",
    "        percorso_cartella = '/Users/emanuele/Desktop/SNA/PROGETTO/'\n",
    "        percorso_1 = str(percorso_cartella) + str(name_txt_0010_sXy)\n",
    "        percorso_2 = str(percorso_cartella) + str(name_txt_0010_yXc)\n",
    "        percorso_3 = str(percorso_cartella) + str(name_csv_0010)\n",
    "\n",
    "        df_1 = pd.read_csv(str(percorso_1))\n",
    "        df_2 = pd.read_csv(str(percorso_2))\n",
    "        df_2 = df_2.groupby(['A','B']).sum()\n",
    "        df_2.to_csv(name_csv_0010)\n",
    "        df_2 = pd.read_csv(percorso_3)\n",
    "        df = pd.concat([df_1,df_2],ignore_index=True, sort=False) \n",
    "\n",
    "    return(df)\n",
    "\n",
    " "
   ]
  },
  {
   "cell_type": "markdown",
   "metadata": {},
   "source": [
    "# NETWORK VISUALIZATION"
   ]
  },
  {
   "cell_type": "markdown",
   "metadata": {},
   "source": [
    "## GENERAL"
   ]
  },
  {
   "cell_type": "code",
   "execution_count": 18,
   "metadata": {},
   "outputs": [],
   "source": [
    "Edges_Generator(dta_9000,'G_yearXstate_cartel_9000','ALL',yearXstate=True,cartelL=True) #G_yearXstate_cartel_9000\n",
    "Edges_Generator(dta_9000,'G_state_yearXstate_9000','ALL',stateL=True, yearXstate=True) #G_state_yearXstate_9000\n",
    "df_1 = pd.read_csv('/Users/emanuele/Desktop/SNA/PROGETTO/G_state_yearXstate_9000.txt')\n",
    "df_2 = pd.read_csv('/Users/emanuele/Desktop/SNA/PROGETTO/G_yearXstate_cartel_9000.txt')\n",
    "df_9000 = pd.concat([df_1,df_2],ignore_index=True, sort=False)\n",
    "\n",
    "\n",
    "Edges_Generator(dta_0010,'G_yearXstate_cartel_0010','ALL',yearXstate=True,cartelL=True) #G_yearXstate_cartel_0010\n",
    "Edges_Generator(dta_0010,'G_state_yearXstate_0010','ALL',stateL=True, yearXstate=True) #G_state_yearXstate_0010\n",
    "df_1 = pd.read_csv('/Users/emanuele/Desktop/SNA/PROGETTO/G_state_yearXstate_0010.txt')\n",
    "df_2 = pd.read_csv('/Users/emanuele/Desktop/SNA/PROGETTO/G_yearXstate_cartel_0010.txt')\n",
    "df_0010 = pd.concat([df_1,df_2],ignore_index=True, sort=False)"
   ]
  },
  {
   "cell_type": "markdown",
   "metadata": {},
   "source": [
    "## PER FAMIGLIA"
   ]
  },
  {
   "cell_type": "code",
   "execution_count": 37,
   "metadata": {},
   "outputs": [],
   "source": [
    "#1990-1999: in alcuni non sono presenti dati quindi decidiamo di non eseguire la creazione \n",
    "#df_BL9000 = Edges_Generator_for_Cartel('Beltran_Leyva','BL',years_9000=True)\n",
    "#df_BLF9000 = Edges_Generator_for_Cartel('Beltran_Leyva_Family','BLF',years_9000=True)\n",
    "#df_F9000 = Edges_Generator_for_Cartel('Familia','F',years_9000=True)\n",
    "df_G9000 = Edges_Generator_for_Cartel('Golfo','G',years_9000=True)\n",
    "df_J9000 = Edges_Generator_for_Cartel('Juarez','J',years_9000=True)\n",
    "df_S9000 = Edges_Generator_for_Cartel('Sinaloa','S',years_9000=True)\n",
    "#df_SF9000 = Edges_Generator_for_Cartel('Sinaloa_Family','SF',years_9000=True)\n",
    "df_T9000 = Edges_Generator_for_Cartel('Tijuana','T',years_9000=True)\n",
    "df_Z9000 = Edges_Generator_for_Cartel('Zetas','Z',years_9000=True)\n",
    "#df_O9000 = Edges_Generator_for_Cartel('Otros','O',years_9000=True)\n",
    "\n",
    "#2000-2010\n",
    "df_BL0010 = Edges_Generator_for_Cartel('Beltran_Leyva','BL',years_0010=True)\n",
    "df_BLF0010 = Edges_Generator_for_Cartel('Beltran_Leyva_Family','BLF',years_0010=True)\n",
    "df_F0010 = Edges_Generator_for_Cartel('Familia','F',years_0010=True)\n",
    "df_G0010 = Edges_Generator_for_Cartel('Golfo','G',years_0010=True)\n",
    "df_J0010 = Edges_Generator_for_Cartel('Juarez','J',years_0010=True)\n",
    "df_S0010 = Edges_Generator_for_Cartel('Sinaloa','S',years_0010=True)\n",
    "df_SF0010 = Edges_Generator_for_Cartel('Sinaloa_Family','SF',years_0010=True)\n",
    "df_T0010 = Edges_Generator_for_Cartel('Tijuana','T',years_0010=True)\n",
    "df_Z0010 = Edges_Generator_for_Cartel('Zetas','Z',years_0010=True)\n",
    "df_O0010 = Edges_Generator_for_Cartel('Otros','O',years_0010=True)"
   ]
  }
 ],
 "metadata": {
  "interpreter": {
   "hash": "28db2cdea796381823031ea64014c20b5b1d93b04c2797bd17c518394bba0663"
  },
  "kernelspec": {
   "display_name": "Python 3.9.7 ('base')",
   "language": "python",
   "name": "python3"
  },
  "language_info": {
   "codemirror_mode": {
    "name": "ipython",
    "version": 3
   },
   "file_extension": ".py",
   "mimetype": "text/x-python",
   "name": "python",
   "nbconvert_exporter": "python",
   "pygments_lexer": "ipython3",
   "version": "3.9.7"
  },
  "orig_nbformat": 4
 },
 "nbformat": 4,
 "nbformat_minor": 2
}
