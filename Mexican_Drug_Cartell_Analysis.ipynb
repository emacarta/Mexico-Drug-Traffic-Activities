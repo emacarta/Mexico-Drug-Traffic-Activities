{
 "cells": [
  {
   "cell_type": "markdown",
   "metadata": {},
   "source": [
    "# LIBRERIE"
   ]
  },
  {
   "cell_type": "code",
   "execution_count": 2,
   "metadata": {},
   "outputs": [],
   "source": [
    "import matplotlib.pyplot as plt\n",
    "import networkx as nx\n",
    "import pandas as pd"
   ]
  },
  {
   "cell_type": "markdown",
   "metadata": {},
   "source": [
    "# DATASET"
   ]
  },
  {
   "cell_type": "code",
   "execution_count": 5,
   "metadata": {},
   "outputs": [],
   "source": [
    "dataset = pd.read_csv('/Users/emanuele/Desktop/SNA/PROGETTO/DATASET/CosciaRios2012_DataBase.csv') #lettura del dataset\n",
    "dataset.drop('Code', axis=1, inplace=True) #rimuoviamo la collona dove sono presenti i codici \"provinciali\"\n",
    "dataset = dataset.groupby(['State','Year']).sum() #sommiamo le nostre istanze in base a Stato e Anno\n",
    "dataset.to_csv('Mexican_Drug_Cartels_dta.csv') #salviamo il dataset"
   ]
  },
  {
   "cell_type": "code",
   "execution_count": 6,
   "metadata": {},
   "outputs": [],
   "source": [
    "dataset = pd.read_csv('/Users/emanuele/Desktop/SNA/PROGETTO/Mexican_Drug_Cartels_dta.csv')\n",
    "#dividiamo il nostro datastet in due decadi \n",
    "df_9000 = dataset[dataset.Year < 2000] #1990-1999\n",
    "df_0010 = dataset[dataset.Year >= 2000 ] #2000-2010"
   ]
  },
  {
   "cell_type": "markdown",
   "metadata": {},
   "source": [
    "# FUNZIONI"
   ]
  },
  {
   "cell_type": "code",
   "execution_count": 30,
   "metadata": {},
   "outputs": [],
   "source": [
    "def Edges_Generetor(dataset, name_txt, Qcartelli, stateL=False, yearL=False, yearXstate=False, cartelL=False):\n",
    "    #permette la creazione di edges partendo dal dataset di partenza\n",
    "\n",
    "    #esegue un check per vedere crearli su tutte le famiglie o su una in particolare\n",
    "    if Qcartelli == 'ALL':\n",
    "        cartelli = ['Beltran_Leyva', 'Beltran_Leyva_Family', 'Familia', 'Golfo', \n",
    "                    'Juarez', 'Sinaloa', 'Sinaloa_Family', 'Tijuana', 'Zetas', 'Otros']\n",
    "    else:\n",
    "        cartelli = []\n",
    "        cartelli.append(Qcartelli)\n",
    "\n",
    "    res_list = []\n",
    "    \n",
    "    for state in dataset.State.unique(): #creiuamo un subset per ogni stato in maniera ricorsiva\n",
    "        sub1 = dataset[dataset.State == state]\n",
    "\n",
    "        for year in sub1.Year: #creiuamo un subset per ogni anno in maniera ricorsiva\n",
    "            sub2 = sub1[sub1.Year == year]\n",
    "            \n",
    "            for single in cartelli:\n",
    "                value = sub2[single].iloc[0] #troviamo il numero di volte che il cartello è apparso\n",
    "                list = []\n",
    "\n",
    "                if value > 0 : #eseguiamo un controllo per sapere se creare o no il collegamento\n",
    "                    #in base alle impostazioni decise prendiamo PARTENZA(A), ARRIVO(B) e WEIGHT(W)\n",
    "                    if yearXstate == True:\n",
    "                        year_ = str(year)\n",
    "                        _state = str(state)\n",
    "                        year_state = str(year_ + '_' + _state)\n",
    "\n",
    "                    if stateL == True:\n",
    "                        list.append(state)\n",
    "                    \n",
    "                    if yearL == True:\n",
    "                        list.append(year)\n",
    "                    elif yearXstate == True:\n",
    "                        list.append(year_state)\n",
    "                    \n",
    "                    if Qcartelli == 'ALL':\n",
    "                        if cartelL == True:\n",
    "                            list.append(single)\n",
    "                    else:\n",
    "                        list.append(Qcartelli)\n",
    "                    \n",
    "                    list.append(value)\n",
    "                    res_list.append(list)\n",
    "\n",
    "    #creiamo il file.txt con il nome deciso nelle impostazioni                    \n",
    "    name_file = str(name_txt + \".txt\")\n",
    "    file = open(name_file, \"w+\")\n",
    "\n",
    "    file.write('A'+',')\n",
    "    file.write('B'+',')\n",
    "    file.write('Weight'+'\\n')\n",
    "\n",
    "    for list in res_list:\n",
    "        time = 0\n",
    "        for element in list:\n",
    "            time = time + 1\n",
    "            e = str(element)\n",
    "            file.write(e)\n",
    "            if time < 3:\n",
    "                file.write(',')\n",
    "            else:\n",
    "                file.write('\\n')\n",
    "\n",
    "    file.close()\n",
    "\n",
    "    return(file)   "
   ]
  }
 ],
 "metadata": {
  "interpreter": {
   "hash": "28db2cdea796381823031ea64014c20b5b1d93b04c2797bd17c518394bba0663"
  },
  "kernelspec": {
   "display_name": "Python 3.9.7 ('base')",
   "language": "python",
   "name": "python3"
  },
  "language_info": {
   "codemirror_mode": {
    "name": "ipython",
    "version": 3
   },
   "file_extension": ".py",
   "mimetype": "text/x-python",
   "name": "python",
   "nbconvert_exporter": "python",
   "pygments_lexer": "ipython3",
   "version": "3.9.7"
  },
  "orig_nbformat": 4
 },
 "nbformat": 4,
 "nbformat_minor": 2
}
