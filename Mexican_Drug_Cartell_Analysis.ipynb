{
 "cells": [
  {
   "cell_type": "markdown",
   "metadata": {},
   "source": [
    "# Mexico Drug Traffic Activities "
   ]
  },
  {
   "cell_type": "markdown",
   "metadata": {},
   "source": [
    "## Librerie Usate"
   ]
  },
  {
   "cell_type": "code",
   "execution_count": null,
   "metadata": {},
   "outputs": [],
   "source": [
    "import matplotlib.pyplot as plt\n",
    "import networkx as nx\n",
    "import pandas as pd\n",
    "import itertools\n",
    "from pyvis.network import Network\n",
    "import os\n",
    "import shutil\n",
    "import collections\n",
    "import random\n",
    "import numpy as np"
   ]
  },
  {
   "cell_type": "markdown",
   "metadata": {},
   "source": [
    "Inserire percorso della propria cartella"
   ]
  },
  {
   "cell_type": "code",
   "execution_count": null,
   "metadata": {},
   "outputs": [],
   "source": [
    "percorso_cartella = \"/Users/emanuele/Desktop/SNA/PROGETTO\""
   ]
  },
  {
   "cell_type": "markdown",
   "metadata": {},
   "source": [
    "## Dataset"
   ]
  },
  {
   "cell_type": "code",
   "execution_count": null,
   "metadata": {},
   "outputs": [],
   "source": [
    "dataset = pd.read_csv(percorso_cartella+'/DATASETS/CosciaRios2012_DataBase.csv') #lettura del dataset\n",
    "dataset.drop('Code', axis=1, inplace=True) #rimuoviamo la collona dove sono presenti i codici \"provinciali\"\n",
    "dataset = dataset.groupby(['State','Year']).sum() #sommiamo le nostre istanze in base a Stato e Anno\n",
    "dataset.to_csv('DATASETS/Mexican_Drug_Cartels_dta.csv') #salviamo il dataset"
   ]
  },
  {
   "cell_type": "code",
   "execution_count": null,
   "metadata": {},
   "outputs": [],
   "source": [
    "dataset = pd.read_csv(percorso_cartella+'/DATASETS/Mexican_Drug_Cartels_dta.csv')\n",
    "#dividiamo il nostro datastet in due decadi \n",
    "dta_9000 = dataset[dataset.Year < 2000] #1990-1999\n",
    "dta_0010 = dataset[dataset.Year >= 2000 ] #2000-2010"
   ]
  },
  {
   "cell_type": "markdown",
   "metadata": {},
   "source": [
    "## Funzioni"
   ]
  },
  {
   "cell_type": "code",
   "execution_count": null,
   "metadata": {},
   "outputs": [],
   "source": [
    "def Edges_Generator(dataset, name_txt, Qcartelli, stateL=False, yearL=False, yearXstate=False, cartelL=False,\n",
    "                    link_state_year=False):\n",
    "    #permette la creazione di edges partendo dal dataset di partenza\n",
    "\n",
    "    #esegue un check per vedere crearli su tutte le famiglie o su una in particolare\n",
    "    if Qcartelli == 'ALL':\n",
    "        cartelli = ['Beltran_Leyva', 'Beltran_Leyva_Family', 'Familia', 'Golfo', \n",
    "                    'Juarez', 'Sinaloa', 'Sinaloa_Family', 'Tijuana', 'Zetas', 'Otros']\n",
    "    else:\n",
    "        cartelli = []\n",
    "        cartelli.append(Qcartelli)\n",
    "\n",
    "    res_list = []\n",
    "    \n",
    "    for state in dataset.State.unique(): #creiamo un subset per ogni stato in maniera ricorsiva\n",
    "        sub1 = dataset[dataset.State == state]\n",
    "\n",
    "        for year in sub1.Year: #creiamo un subset per ogni anno in maniera ricorsiva\n",
    "            sub2 = sub1[sub1.Year == year]\n",
    "            \n",
    "            for single in cartelli:\n",
    "                value = sub2[single].iloc[0] #troviamo il numero di volte che il cartello è apparso\n",
    "                list = []\n",
    "\n",
    "                if value > 0 : #eseguiamo un controllo per sapere se creare o no il collegamento\n",
    "                    #in base alle impostazioni decise prendiamo PARTENZA(A), ARRIVO(B) e WEIGHT(W)\n",
    "                    if yearXstate == True:\n",
    "                        year_ = str(year)\n",
    "                        _state = str(state)\n",
    "                        year_state = str(year_ + '_' + _state)\n",
    "\n",
    "                    if stateL == True:\n",
    "                        list.append(state)\n",
    "                    \n",
    "                    if yearL == True:\n",
    "                        list.append(year)\n",
    "                    elif yearXstate == True:\n",
    "                        list.append(year_state)\n",
    "                    \n",
    "                    if Qcartelli == 'ALL':\n",
    "                        if cartelL == True:\n",
    "                            list.append(single)\n",
    "                    else:\n",
    "                        if cartelL == True:\n",
    "                            list.append(Qcartelli)\n",
    "                    \n",
    "                    if link_state_year == True:\n",
    "                        list.append(1)\n",
    "                    else:\n",
    "                        list.append(value)\n",
    "                    res_list.append(list)\n",
    "\n",
    "    #creiamo il file.txt con il nome assegnato                   \n",
    "    name_file = str(name_txt + \".txt\")\n",
    "    file = open(name_file, \"w+\")\n",
    "\n",
    "    file.write('A'+',')\n",
    "    file.write('B'+',')\n",
    "    file.write('Weight'+'\\n')\n",
    "\n",
    "    for list in res_list:\n",
    "        time = 0\n",
    "        for element in list:\n",
    "            time = time + 1\n",
    "            e = str(element)\n",
    "            file.write(e)\n",
    "            if time < 3:\n",
    "                file.write(',')\n",
    "            else:\n",
    "                file.write('\\n')\n",
    "\n",
    "    file.close()\n",
    "\n",
    "    return(file)\n",
    "\n",
    "#----------------------------------------------------------------------------------------#\n",
    "\n",
    "def Edges_Generator_for_Cartel(name_cartel, cartel_sigla, years_9000=False, years_0010=False,street=percorso_cartella):\n",
    "    #permette la creazione di edges per i singoli cartelli\n",
    "\n",
    "    if years_9000 == True: #svolgo operazioni per gli anni 1990 - 1999\n",
    "        #assegno i nomi ai file tramite una concatenazione di stringhe\n",
    "        name_txt_9000_yXc = 'year_'+str(name_cartel)+'_'+str(cartel_sigla)+'9000'\n",
    "        name_txt_9000_sXy = 'state_year_'+str(name_cartel)+'_'+str(cartel_sigla)+'9000'\n",
    "        name_csv_9000 = str(name_cartel)+'_'+'9000'+'.csv'\n",
    "\n",
    "        #utilizzo la funzione creata in precesenza per generare gli edges\n",
    "        Edges_Generator(dta_9000,name_txt_9000_yXc, name_cartel, yearL=True,cartelL=True)\n",
    "        Edges_Generator(dta_9000,name_txt_9000_sXy, name_cartel, stateL=True, yearL=True,link_state_year=True)\n",
    "\n",
    "        name_txt_9000_yXc = name_txt_9000_yXc + '.txt'\n",
    "        name_txt_9000_sXy = name_txt_9000_sXy + '.txt'\n",
    "\n",
    "        #creo i percorsi delle per leggeere i file.txt sopra creati\n",
    "        percorso_cartella = street + '/'\n",
    "        percorso_1 = str(percorso_cartella) + str(name_txt_9000_sXy)\n",
    "        percorso_2 = str(percorso_cartella) + str(name_txt_9000_yXc)\n",
    "        percorso_3 = str(percorso_cartella) + str(name_csv_9000)\n",
    "\n",
    "        df_1 = pd.read_csv(str(percorso_1))\n",
    "        df_2 = pd.read_csv(str(percorso_2))\n",
    "        df_2 = df_2.groupby(['A','B']).sum() #effettuo una somma in base ad anno e cartello\n",
    "        df_2.to_csv(name_csv_9000) \n",
    "        df_2 = pd.read_csv(percorso_3)\n",
    "        df = pd.concat([df_1,df_2],ignore_index=True, sort=False) #unisco le due liste di edges\n",
    "    \n",
    "    elif years_0010 == True: #svolgo le stesse operazioni per gli anni fra 2000 e 2010\n",
    "        name_txt_0010_yXc = 'year_'+str(name_cartel)+'_'+str(cartel_sigla)+'0010'\n",
    "        name_txt_0010_sXy = 'state_year_'+str(name_cartel)+'_'+str(cartel_sigla)+'0010'\n",
    "        name_csv_0010 = str(name_cartel)+'_'+'0010'+'.csv'\n",
    "\n",
    "        Edges_Generator(dta_0010,name_txt_0010_yXc, name_cartel, yearL=True,cartelL=True)\n",
    "        Edges_Generator(dta_0010,name_txt_0010_sXy, name_cartel, stateL=True, yearL=True,link_state_year=True)\n",
    "\n",
    "        name_txt_0010_yXc = name_txt_0010_yXc + '.txt'\n",
    "        name_txt_0010_sXy = name_txt_0010_sXy + '.txt'\n",
    "\n",
    "        percorso_cartella = street + '/'\n",
    "        percorso_1 = str(percorso_cartella) + str(name_txt_0010_sXy)\n",
    "        percorso_2 = str(percorso_cartella) + str(name_txt_0010_yXc)\n",
    "        percorso_3 = str(percorso_cartella) + str(name_csv_0010)\n",
    "\n",
    "        df_1 = pd.read_csv(str(percorso_1))\n",
    "        df_2 = pd.read_csv(str(percorso_2))\n",
    "        df_2 = df_2.groupby(['A','B']).sum()\n",
    "        df_2.to_csv(name_csv_0010)\n",
    "        df_2 = pd.read_csv(percorso_3)\n",
    "        df = pd.concat([df_1,df_2],ignore_index=True, sort=False) \n",
    "\n",
    "    return(df)\n",
    "\n",
    "#----------------------------------------------------------------------------------------#\n",
    "\n",
    "def Edges_Only_Cartel_Network_Start(dataset,name_txt):\n",
    "    \n",
    "    cartelli = ['Beltran_Leyva', 'Beltran_Leyva_Family', 'Familia', 'Golfo', \n",
    "                'Juarez', 'Sinaloa', 'Sinaloa_Family', 'Tijuana', 'Zetas', 'Otros']\n",
    "\n",
    "    final_list = []\n",
    "    for state in dataset.State.unique():\n",
    "        sub1 = dataset[dataset.State == state]\n",
    "\n",
    "        for year in sub1.Year:\n",
    "            sub2 = sub1[sub1.Year == year]\n",
    "            \n",
    "            for single in cartelli:\n",
    "                value = sub2[single].iloc[0]\n",
    "                list = []\n",
    "                if value > 0 :\n",
    "                    list.append(state)\n",
    "                    list.append(year)\n",
    "                    list.append(single)\n",
    "                    list.append(value)\n",
    "                    final_list.append(list)\n",
    "                    \n",
    "    name_file = str(name_txt + \".txt\")\n",
    "    file = open(name_file, \"w+\")\n",
    "\n",
    "    file.write('A'+',')\n",
    "    file.write('Bridge'+',')\n",
    "    file.write('B'+',')\n",
    "    file.write('Weight'+'\\n')\n",
    "\n",
    "    for list in final_list:\n",
    "        time = 0\n",
    "        for element in list:\n",
    "            time = time + 1\n",
    "            e = str(element)\n",
    "            file.write(e)\n",
    "            if time < 4:\n",
    "                file.write(',')\n",
    "            else:\n",
    "                file.write('\\n')\n",
    "\n",
    "    file.close() \n",
    "\n",
    "    return(file)\n",
    "\n",
    "#----------------------------------------------------------------------------------------#\n",
    "\n",
    "def Edges_Only_Cartel_Network_Final(dataset, name_txt, name_csv, year_selected, street=percorso_cartella):\n",
    "\n",
    "    Edges_Only_Cartel_Network_Start(dataset,name_txt)\n",
    "\n",
    "    name_file_txt = name_txt+'.txt'\n",
    "    name_file_csv = name_csv+'.csv'\n",
    "    percorso_cartella = street\n",
    "    percorso1 = percorso_cartella + name_file_txt\n",
    "    percorso2 = percorso_cartella + name_file_csv\n",
    "\n",
    "    data =  pd.read_csv(percorso1)\n",
    "\n",
    "    data = data[data.Bridge == year_selected]\n",
    "\n",
    "    data_AB = data[['A','B','Weight']]\n",
    "    data_AB = data_AB.groupby(['A','B']).sum()\n",
    "\n",
    "    data_AB.to_csv(name_file_csv)\n",
    "\n",
    "    df = pd.read_csv(percorso2)\n",
    "\n",
    "    edges_list = []\n",
    "\n",
    "    for state in df.A.unique():\n",
    "        sub = df[df.A == state]\n",
    "        \n",
    "        if len(sub) > 1:\n",
    "            list_cartels = []\n",
    "            for cartel in sub.B:\n",
    "                list_cartels.append(cartel)\n",
    "\n",
    "            for v in itertools.combinations(list_cartels, 2):\n",
    "                edges_list.append(v)\n",
    "                \n",
    "                \n",
    "    new_df = pd.DataFrame(columns=['A','B'])\n",
    "    new_df[['A','B']]=edges_list\n",
    "\n",
    "    new_cols = ['A','B']\n",
    "    new_df = new_df.reindex(new_df.columns.union(new_cols), axis=1) \n",
    "\n",
    "    return(new_df)\n",
    "\n",
    "#----------------------------------------------------------------------------------------#\n",
    "\n",
    "def Network_Cartels_Meeting_Generator(dataset,Graph,colore):\n",
    "    \n",
    "    cartelli = ['Beltran_Leyva', 'Beltran_Leyva_Family', 'Familia', 'Golfo', \n",
    "            'Juarez', 'Sinaloa', 'Sinaloa_Family', 'Tijuana', 'Zetas', 'Otros']\n",
    "    \n",
    "    edges_cartels = dataset.values.tolist()\n",
    "\n",
    "    for cartello in cartelli:\n",
    "        name = str(cartello)\n",
    "        Graph.add_node(name, color = colore)\n",
    "\n",
    "    for i in range(len(edges_cartels)):\n",
    "        edge = edges_cartels[i]\n",
    "        add = -1\n",
    "\n",
    "        for o in range(len(edge)):\n",
    "            add = add + 1\n",
    "            \n",
    "            if add == 0:\n",
    "                A = edge[add]\n",
    "                \n",
    "            elif add == 1:\n",
    "                B = edge[add]\n",
    "            elif add == 2:\n",
    "                W = edge[add]\n",
    "\n",
    "        Graph.add_edge(str(A), str(B) ,weight=int(W))\n",
    "          \n",
    "    return(Graph)   \n",
    "\n",
    "#----------------------------------------------------------------------------------------#\n",
    "\n",
    "def metrics(network, link_select=False, nodi_select=False, degree_select=False, density_select=False, matrix_select=False,\n",
    "            betweenness_select=False, closeness_select=False, eigen_select=False, all_metrics=False):\n",
    "\n",
    "    if all_metrics == True:\n",
    "        link_select = True\n",
    "        nodi_select = True\n",
    "        degree_select = True\n",
    "        density_select = True\n",
    "        matrix_select = True\n",
    "        betweenness_select = True \n",
    "        closeness_select = True\n",
    "        eigen_select = True\n",
    "\n",
    "    #CONTO DEGLI EDGE/LINK DELLA RETE \n",
    "    if link_select == True:\n",
    "        l = network.number_of_edges()\n",
    "        print('Gli edge della rete sono:', l)\n",
    "    \n",
    "    #CONTO I NODI DELLA RETE\n",
    "    if nodi_select == True:\n",
    "        nodi = network.number_of_nodes()\n",
    "        print('#','-'*60,'#')\n",
    "        print('I nodi della rete sono:',nodi)\n",
    "\n",
    "    #DEGREE DEI NODI \n",
    "    if degree_select == True:\n",
    "        print('#','-'*60,'#')\n",
    "        list = []\n",
    "        for node in network.degree():\n",
    "            list.append(node)\n",
    "        nodi_degree = pd.DataFrame(list, columns = ['Node', 'Degree'])\n",
    "        nodi_degree.to_csv('nodi_degree.csv')\n",
    "        \n",
    "\n",
    "        somma_degree = sum(dict(network.degree()).values())\n",
    "        print('La somma dei node degree è:',somma_degree)\n",
    "        print('\\nL\\'average degree di questa network è:',somma_degree/(len(network)))\n",
    "        print('\\nI valori degree maggiori sono:', '\\n', nodi_degree.nlargest(5, 'Degree'))\n",
    "        print('\\nI restanti valori sono stati salvati nel file \\'nodi_degree.csv\\'')\n",
    "    \n",
    "    #DENSITA'\n",
    "    if density_select == True:\n",
    "        print('#','-'*60,'#')\n",
    "        print('Densità della rete equivale a:',nx.density(network))\n",
    "\n",
    "    #MATRICE DI ADIACENZA PESATA\n",
    "    if matrix_select == True:\n",
    "        print('#','-'*60,'#')\n",
    "        print('La Matrice di adiacenza pesata è stata salvata correttamente.') \n",
    "        m = nx.to_pandas_adjacency(network, nodelist=sorted(network.nodes), dtype=int)\n",
    "        m.to_excel('adjacency_matrix.xlsx')\n",
    "\n",
    "    #BETWEENNESS CENTRALITY\n",
    "    if betweenness_select == True:\n",
    "        B = nx.betweenness_centrality(network,normalized=False)\n",
    "        print('#','-'*60,'#')\n",
    "        list_bet = []\n",
    "        for value in B.items():\n",
    "            list_bet.append(value)\n",
    "        bet_value = pd.DataFrame(list_bet, columns = ['Node', 'Values'])\n",
    "        bet_value.to_csv('Betweenness_value.csv')\n",
    "        print('I valori della Betweenness Centrality maggiori sono:', '\\n', bet_value.nlargest(5, 'Values'))\n",
    "        print('\\nI restanti valori sono stati salvati nel file \\'Betweenness_value.csv\\'')\n",
    "    \n",
    "    #CLOSENESS CENTRALITY\n",
    "    if closeness_select == True:\n",
    "        C = nx.closeness_centrality(network)\n",
    "        print('#','-'*60,'#')\n",
    "        list_clo = []\n",
    "        for value in C.items():\n",
    "            list_clo.append(value)\n",
    "        clo_value = pd.DataFrame(list_clo, columns = ['Node', 'Values'])\n",
    "        clo_value.to_csv('Closeness_value.csv')\n",
    "        print('I valori della Closeness Centrality maggiori sono:', '\\n', clo_value.nlargest(5, 'Values'))\n",
    "        print('\\nI restanti valori sono stati salvati nel file \\'Closeness_value.csv\\'')\n",
    "\n",
    "    \n",
    "    #EIGENVECTOR CENTRALITY\n",
    "    if eigen_select == True:\n",
    "        eigen = nx.eigenvector_centrality(network)\n",
    "        print('#','-'*60,'#')\n",
    "        list_eigen = []\n",
    "        for value in eigen.items():\n",
    "            list_eigen.append(value)\n",
    "        eig_value = pd.DataFrame(list_eigen, columns = ['Node', 'Values'])\n",
    "        eig_value.to_csv('Eigenvector_value.csv')\n",
    "        print('I valori dell\\'Eigenvector Centrality maggiori sono:', '\\n', eig_value.nlargest(5, 'Values'))\n",
    "        print('\\nI restanti valori sono stati salvati nel file \\'Eigenvector_value.csv\\'')\n",
    "\n",
    "#----------------------------------------------------------------------------------------#\n",
    "\n",
    "def BiGram_Generator_Counter(dataset):\n",
    "\n",
    "    dataset['to'] = '-'\n",
    "    add = dataset.A +dataset.to+ dataset.B\n",
    "    dataset['bi-grams'] = add\n",
    "\n",
    "    list_ = add.values.tolist()\n",
    "\n",
    "    frequency = collections.Counter(list_)\n",
    "\n",
    "    list_f = list(frequency.items())\n",
    "\n",
    "    cartels_connections = []\n",
    "    W = []\n",
    "    A = []\n",
    "    B = []\n",
    "    for i in range(len(list_f)):\n",
    "        cartels_connections.append(list_f[i][0])\n",
    "        W.append(list_f[i][1])\n",
    "        A.append(cartels_connections[i].split('-')[0])\n",
    "        B.append(cartels_connections[i].split('-')[1])\n",
    "    \n",
    "    final = pd.DataFrame()\n",
    "    final['A'] = A\n",
    "    final['B'] = B\n",
    "    final['W'] = W\n",
    "    \n",
    "    return(final)\n",
    "\n",
    "#----------------------------------------------------------------------------------------#\n",
    "\n",
    "def Network_Generator_For_Cartels(Graph,state_year_csv,df_cartel,name_cartel):\n",
    "\n",
    "    state_year = state_year_csv\n",
    "    for a in state_year.A.unique():\n",
    "        name = str(a)\n",
    "        Graph.add_node(name, color = 'green')\n",
    "\n",
    "    for b in state_year.B.unique():\n",
    "        name = str(b)\n",
    "        Graph.add_node(name, color = 'blue')\n",
    "\n",
    "    Graph.add_node(name_cartel, color = 'red')\n",
    "\n",
    "    list_df = df_cartel.values.tolist()\n",
    "    f = len(list_df)\n",
    "\n",
    "    for s in range(f):\n",
    "        edge = list_df[s]\n",
    "        add = -1\n",
    "\n",
    "        for x in range(len(edge)):\n",
    "            add = add + 1\n",
    "            \n",
    "            if add == 0:\n",
    "                A = edge[add]\n",
    "                \n",
    "            elif add == 1:\n",
    "                B = edge[add]\n",
    "                \n",
    "            elif add == 2 :\n",
    "                W = edge[add]\n",
    "\n",
    "        Graph.add_edge(str(A), str(B) ,weight=int(W))\n",
    "\n",
    "    return(Graph)\n",
    "\n",
    "#----------------------------------------------------------------------------------------#\n",
    "\n",
    "def html_network(net,data,yearXstate_txt): \n",
    "    cartelli = ['Beltran_Leyva', 'Beltran_Leyva_Family', 'Familia', 'Golfo', \n",
    "                'Juarez', 'Sinaloa', 'Sinaloa_Family', 'Tijuana', 'Zetas', 'Otros']\n",
    "\n",
    "    yearXstate = yearXstate_txt\n",
    "    stati = yearXstate.A.unique().astype(str)\n",
    "    yearXstate = yearXstate.B.unique()\n",
    "\n",
    "    net.barnes_hut()\n",
    "    data_ = data\n",
    "\n",
    "    sources = data_['B']\n",
    "    targets = data_['A']\n",
    "    weights = data_['Weight']\n",
    "\n",
    "    edge_data = zip(sources, targets, weights)\n",
    "\n",
    "    for cartel in cartelli:\n",
    "        net.add_node(cartel,color='red',color_border='black')\n",
    "\n",
    "    for stato in stati:\n",
    "        net.add_node(stato,color='green')\n",
    "\n",
    "    for y_s in yearXstate:\n",
    "        net.add_node(y_s,color='blue')\n",
    "\n",
    "    for e in edge_data:\n",
    "        src = e[0]\n",
    "        dst = e[1]\n",
    "        w = e[2]\n",
    "        \n",
    "        net.add_node(dst, dst, title=dst)\n",
    "        net.add_edge(src, dst, value=w,opacity=0.1)\n",
    "\n",
    "    neighbor_map = net.get_adj_list()\n",
    "\n",
    "    net.repulsion(node_distance=200, spring_length=80)\n",
    "\n",
    "    for node in net.nodes:\n",
    "        node['value'] = len(neighbor_map[node['id']])\n",
    "\n",
    "    net.show_buttons(filter_=True)\n",
    "    return(net)"
   ]
  },
  {
   "cell_type": "markdown",
   "metadata": {},
   "source": [
    "## ANALISI DELLE NETWORK"
   ]
  },
  {
   "cell_type": "markdown",
   "metadata": {},
   "source": [
    "### Analisi sulla Network Generale"
   ]
  },
  {
   "cell_type": "markdown",
   "metadata": {},
   "source": [
    "Andiamo a creare la lista degli edges per ambe le decadi per formare le reti per l'analisi. \n",
    "\n",
    "In partcolare creeremo: \n",
    "* (anno diversificato per stato, cartello)\n",
    "* (stato, anno divesificato per stato)"
   ]
  },
  {
   "cell_type": "code",
   "execution_count": null,
   "metadata": {},
   "outputs": [],
   "source": [
    "Edges_Generator(dta_9000,'G_yearXstate_cartel_9000','ALL',yearXstate=True,cartelL=True) \n",
    "Edges_Generator(dta_9000,'G_state_yearXstate_9000','ALL',stateL=True, yearXstate=True)\n",
    "df_1 = pd.read_csv(percorso_cartella+'/G_state_yearXstate_9000.txt') #leggiamo i file di testo come dataset \n",
    "df_2 = pd.read_csv(percorso_cartella+'/G_yearXstate_cartel_9000.txt') #leggiamo i file di testo come dataset \n",
    "df_9000 = pd.concat([df_1,df_2],ignore_index=True, sort=False) #concateniamo gli oggetti lungo l'asse verticale  \n",
    "\n",
    "Edges_Generator(dta_0010,'G_yearXstate_cartel_0010','ALL',yearXstate=True,cartelL=True) \n",
    "Edges_Generator(dta_0010,'G_state_yearXstate_0010','ALL',stateL=True, yearXstate=True) \n",
    "df_1 = pd.read_csv(percorso_cartella+'/G_state_yearXstate_0010.txt') #leggiamo i file di testo come dataset  \n",
    "df_2 = pd.read_csv(percorso_cartella+'/G_yearXstate_cartel_0010.txt') #leggiamo i file di testo come dataset \n",
    "df_0010 = pd.concat([df_1,df_2],ignore_index=True, sort=False) #concateniamo gli oggetti lungo l'asse verticale  "
   ]
  },
  {
   "cell_type": "code",
   "execution_count": null,
   "metadata": {},
   "outputs": [],
   "source": [
    "#trasformiamo la colonna A in stringa per non avere problemi con le operazioni successive\n",
    "df_9000['A'] = df_9000.A.astype(str) \n",
    "df_0010['A'] = df_0010.A.astype(str)"
   ]
  },
  {
   "cell_type": "markdown",
   "metadata": {},
   "source": [
    "Procediamo con la creazione delle Network per poterle visualizzare. \n",
    "Per la creazione e la visualizazione useremo: \n",
    "* NetworkX\n",
    "* pivis"
   ]
  },
  {
   "cell_type": "code",
   "execution_count": null,
   "metadata": {},
   "outputs": [],
   "source": [
    "net_9000 = Network(height='750px', width='100%', bgcolor='white', font_color='black') #creiamo la network con pyvis\n",
    "yearXstate_9000= pd.read_csv(percorso_cartella+'/G_state_yearXstate_9000.txt')\n",
    "html_network(net_9000,df_9000,yearXstate_9000)\n",
    "net_9000.show('networkDTO_9000.html') #crea il file html da visualizzare in un browser"
   ]
  },
  {
   "cell_type": "code",
   "execution_count": null,
   "metadata": {},
   "outputs": [],
   "source": [
    "net_0010 = Network(height='750px', width='100%', bgcolor='white', font_color='black') #creiamo la network con pyvis\n",
    "yearXstate_0010 = pd.read_csv(percorso_cartella+'/G_state_yearXstate_0010.txt')\n",
    "html_network(net_0010,df_0010,yearXstate_0010)\n",
    "net_0010.show('networkDTO_0010.html') #crea il file html da visualizzare in un browser "
   ]
  },
  {
   "cell_type": "code",
   "execution_count": null,
   "metadata": {},
   "outputs": [],
   "source": [
    "#Creazione della Network con NetworkX per poter calcolare le metriche\n",
    "netX_9000 = nx.Graph()\n",
    "\n",
    "netX_data_9000 = df_9000\n",
    "\n",
    "cartelli = ['Beltran_Leyva', 'Beltran_Leyva_Family', 'Familia', 'Golfo', \n",
    "            'Juarez', 'Sinaloa', 'Sinaloa_Family', 'Tijuana', 'Zetas', 'Otros']\n",
    "\n",
    "stati = yearXstate_9000.A.unique()\n",
    "yearXstate_9000 = yearXstate_9000.B.unique()\n",
    "\n",
    "for a in stati:\n",
    "    name = str(a)\n",
    "    netX_9000.add_node(name, color = 'red')\n",
    "\n",
    "for b in yearXstate_9000:\n",
    "    name = str(b)\n",
    "    netX_9000.add_node(name, color = 'blue')\n",
    "\n",
    "for cartel in cartelli:\n",
    "    netX_9000.add_node(cartel, color = 'green')\n",
    "\n",
    "list_df = netX_data_9000.values.tolist()\n",
    "f = len(list_df)\n",
    "\n",
    "for s in range(f):\n",
    "    edge = list_df[s]\n",
    "    add = -1\n",
    "\n",
    "    for x in range(len(edge)):\n",
    "        add = add + 1\n",
    "        \n",
    "        if add == 0:\n",
    "            A = edge[add]\n",
    "            \n",
    "        elif add == 1:\n",
    "            B = edge[add]\n",
    "            \n",
    "        elif add == 2 :\n",
    "            W = edge[add]\n",
    "\n",
    "    netX_9000.add_edge(str(A), str(B) ,weight=int(W))"
   ]
  },
  {
   "cell_type": "code",
   "execution_count": null,
   "metadata": {},
   "outputs": [],
   "source": [
    "#Creazione della Network con NetworkX per poter calcolare le metriche\n",
    "netX_0010 = nx.Graph()\n",
    "\n",
    "netX_data_0010 = df_0010\n",
    "\n",
    "cartelli = ['Beltran_Leyva', 'Beltran_Leyva_Family', 'Familia', 'Golfo', \n",
    "            'Juarez', 'Sinaloa', 'Sinaloa_Family', 'Tijuana', 'Zetas', 'Otros']\n",
    "\n",
    "stati = yearXstate_0010.A.unique()\n",
    "yearXstate_0010= yearXstate_0010.B.unique()\n",
    "\n",
    "for a in stati:\n",
    "    name = str(a)\n",
    "    netX_0010.add_node(name, color = 'red')\n",
    "\n",
    "for b in yearXstate_0010:\n",
    "    name = str(b)\n",
    "    netX_0010.add_node(name, color = 'blue')\n",
    "\n",
    "for cartel in cartelli:\n",
    "    netX_0010.add_node(cartel, color = 'green')\n",
    "\n",
    "list_df = netX_data_0010.values.tolist()\n",
    "f = len(list_df)\n",
    "\n",
    "for s in range(f):\n",
    "    edge = list_df[s]\n",
    "    add = -1\n",
    "\n",
    "    for x in range(len(edge)):\n",
    "        add = add + 1\n",
    "        \n",
    "        if add == 0:\n",
    "            A = edge[add]\n",
    "            \n",
    "        elif add == 1:\n",
    "            B = edge[add]\n",
    "            \n",
    "        elif add == 2 :\n",
    "            W = edge[add]\n",
    "\n",
    "    netX_0010.add_edge(str(A), str(B) ,weight=int(W))"
   ]
  },
  {
   "cell_type": "code",
   "execution_count": null,
   "metadata": {},
   "outputs": [],
   "source": [
    "#calcoliamo le metriche per la rete generale della prima decade (1990-1999)\n",
    "metrics(netX_9000,link_select=True, nodi_select=True, degree_select=True, density_select=True, matrix_select=True,\n",
    "betweenness_select=True) "
   ]
  },
  {
   "cell_type": "code",
   "execution_count": null,
   "metadata": {},
   "outputs": [],
   "source": [
    "#calcoliamo le metriche per la rete generale della prima decade (2000-2010)\n",
    "metrics(netX_0010,link_select=True, nodi_select=True, degree_select=True, density_select=True, matrix_select=True,\n",
    "betweenness_select=True)"
   ]
  },
  {
   "cell_type": "markdown",
   "metadata": {},
   "source": [
    "## PER FAMIGLIA"
   ]
  },
  {
   "cell_type": "code",
   "execution_count": null,
   "metadata": {},
   "outputs": [],
   "source": [
    "#1990-1999: in alcuni non sono presenti dati quindi decidiamo di non eseguire la creazione \n",
    "#df_BL9000 = Edges_Generator_for_Cartel('Beltran_Leyva','BL',years_9000=True)\n",
    "#df_BLF9000 = Edges_Generator_for_Cartel('Beltran_Leyva_Family','BLF',years_9000=True)\n",
    "#df_F9000 = Edges_Generator_for_Cartel('Familia','F',years_9000=True)\n",
    "df_G9000 = Edges_Generator_for_Cartel('Golfo','G',years_9000=True)\n",
    "df_J9000 = Edges_Generator_for_Cartel('Juarez','J',years_9000=True)\n",
    "df_S9000 = Edges_Generator_for_Cartel('Sinaloa','S',years_9000=True)\n",
    "#df_SF9000 = Edges_Generator_for_Cartel('Sinaloa_Family','SF',years_9000=True)\n",
    "df_T9000 = Edges_Generator_for_Cartel('Tijuana','T',years_9000=True)\n",
    "df_Z9000 = Edges_Generator_for_Cartel('Zetas','Z',years_9000=True)\n",
    "#df_O9000 = Edges_Generator_for_Cartel('Otros','O',years_9000=True)"
   ]
  },
  {
   "cell_type": "code",
   "execution_count": null,
   "metadata": {},
   "outputs": [],
   "source": [
    "#2000-2010\n",
    "df_BL0010 = Edges_Generator_for_Cartel('Beltran_Leyva','BL',years_0010=True)\n",
    "df_BLF0010 = Edges_Generator_for_Cartel('Beltran_Leyva_Family','BLF',years_0010=True)\n",
    "df_F0010 = Edges_Generator_for_Cartel('Familia','F',years_0010=True)\n",
    "df_G0010 = Edges_Generator_for_Cartel('Golfo','G',years_0010=True)\n",
    "df_J0010 = Edges_Generator_for_Cartel('Juarez','J',years_0010=True)\n",
    "df_S0010 = Edges_Generator_for_Cartel('Sinaloa','S',years_0010=True)\n",
    "df_SF0010 = Edges_Generator_for_Cartel('Sinaloa_Family','SF',years_0010=True)\n",
    "df_T0010 = Edges_Generator_for_Cartel('Tijuana','T',years_0010=True)\n",
    "df_Z0010 = Edges_Generator_for_Cartel('Zetas','Z',years_0010=True)\n",
    "df_O0010 = Edges_Generator_for_Cartel('Otros','O',years_0010=True)"
   ]
  },
  {
   "cell_type": "markdown",
   "metadata": {},
   "source": [
    "### Golfo"
   ]
  },
  {
   "cell_type": "code",
   "execution_count": null,
   "metadata": {},
   "outputs": [],
   "source": [
    "net_golfo_9000 = nx.Graph()\n",
    "sXy_golfo_9000 = pd.read_csv('/Users/emanuele/Desktop/SNA/PROGETTO/state_year_Golfo_G9000.txt')\n",
    "Network_Generator_For_Cartels(net_golfo_9000,sXy_golfo_9000,df_G9000,'Golfo')"
   ]
  },
  {
   "cell_type": "code",
   "execution_count": null,
   "metadata": {},
   "outputs": [],
   "source": [
    "nt = Network('1000px', '1000px')\n",
    "nt.from_nx(net_golfo_9000, default_edge_weight=3,show_edge_weights=True)\n",
    "nt.show('golfo_9000.html')"
   ]
  },
  {
   "cell_type": "code",
   "execution_count": null,
   "metadata": {},
   "outputs": [],
   "source": [
    "all_weights=[]\n",
    "for (node1,node2,data) in net_golfo_9000.edges(data=True):\n",
    "        all_weights.append(data['weight']) \n",
    "\n",
    "nodes_color=[]\n",
    "for (node1,data) in net_golfo_9000.nodes(data=True):\n",
    "        nodes_color.append(data['color']) \n",
    "\n",
    "\n",
    "unique_weights = list(set(all_weights))\n",
    "\n",
    "pos = nx.spring_layout(net_golfo_9000,seed=1234)\n",
    "\n",
    "for weight in unique_weights:\n",
    "        weighted_edges = [(node1,node2) for (node1,node2,edge_attr) in net_golfo_9000.edges(data=True) if edge_attr['weight']==weight]\n",
    "        width = weight\n",
    "        nx.draw_networkx_edges(net_golfo_9000,pos,edgelist=weighted_edges,width=width)\n",
    "\n",
    "nx.draw_networkx_nodes(net_golfo_9000,pos,node_color=nodes_color, node_size=4000)\n",
    "nx.draw_networkx_labels(net_golfo_9000,pos,font_size=15, font_family=\"sans-serif\")\n",
    "plt.rcParams[\"figure.figsize\"] = (25,25)\n",
    "\n",
    "pass"
   ]
  },
  {
   "cell_type": "code",
   "execution_count": null,
   "metadata": {},
   "outputs": [],
   "source": [
    "metrics(net_golfo_9000,all_metrics=True)"
   ]
  },
  {
   "cell_type": "code",
   "execution_count": null,
   "metadata": {},
   "outputs": [],
   "source": [
    "net_golfo_0010 = nx.Graph()\n",
    "sXy_golfo_0010 = pd.read_csv('/Users/emanuele/Desktop/SNA/PROGETTO/state_year_Golfo_G0010.txt')\n",
    "Network_Generator_For_Cartels(net_golfo_0010,sXy_golfo_0010,df_G0010,'Golfo')"
   ]
  },
  {
   "cell_type": "code",
   "execution_count": null,
   "metadata": {},
   "outputs": [],
   "source": [
    "nt = Network('1000px','1000px')\n",
    "\n",
    "nt.from_nx(net_golfo_0010)\n",
    "\n",
    "neighbor_map = nt.get_adj_list()\n",
    "nt.repulsion(node_distance=200, spring_length=80)\n",
    "\n",
    "for node in nt.nodes:\n",
    "    node['value'] = len(neighbor_map[node['id']])\n",
    "\n",
    "nt.show_buttons(filter_=True)\n",
    "nt.show('golfo_0010.html')"
   ]
  },
  {
   "cell_type": "code",
   "execution_count": null,
   "metadata": {},
   "outputs": [],
   "source": [
    "metrics(net_golfo_0010,all_metrics=True)"
   ]
  },
  {
   "cell_type": "markdown",
   "metadata": {},
   "source": [
    "### Beltran Leyva "
   ]
  },
  {
   "cell_type": "code",
   "execution_count": null,
   "metadata": {},
   "outputs": [],
   "source": [
    "net_bl_0010 = nx.Graph()\n",
    "sXy_bl_0010 = pd.read_csv('/Users/emanuele/Desktop/SNA/PROGETTO/state_year_Beltran_Leyva_BL0010.txt')\n",
    "Network_Generator_For_Cartels(net_bl_0010,sXy_bl_0010,df_BL0010,'Beltran_Leyva')"
   ]
  },
  {
   "cell_type": "code",
   "execution_count": null,
   "metadata": {},
   "outputs": [],
   "source": [
    "metrics(net_bl_0010,all_metrics=True)"
   ]
  },
  {
   "cell_type": "code",
   "execution_count": null,
   "metadata": {},
   "outputs": [],
   "source": [
    "nt = Network('1000px','1000px')\n",
    "\n",
    "nt.from_nx(net_bl_0010)\n",
    "\n",
    "neighbor_map = nt.get_adj_list()\n",
    "nt.repulsion(node_distance=200, spring_length=80)\n",
    "\n",
    "for node in nt.nodes:\n",
    "    node['value'] = len(neighbor_map[node['id']])\n",
    "\n",
    "nt.show_buttons(filter_=True)\n",
    "nt.show('bl_0010.html')"
   ]
  },
  {
   "cell_type": "markdown",
   "metadata": {},
   "source": [
    "### Beltran Leyva Family"
   ]
  },
  {
   "cell_type": "code",
   "execution_count": null,
   "metadata": {},
   "outputs": [],
   "source": [
    "net_blf_0010 = nx.Graph()\n",
    "sXy_blf_0010 = pd.read_csv('/Users/emanuele/Desktop/SNA/PROGETTO/state_year_Beltran_Leyva_Family_BLF0010.txt')\n",
    "Network_Generator_For_Cartels(net_blf_0010,sXy_blf_0010,df_BLF0010,'Beltran_Leyva_Family')"
   ]
  },
  {
   "cell_type": "code",
   "execution_count": null,
   "metadata": {},
   "outputs": [],
   "source": [
    "nt = Network('1000px','1000px')\n",
    "\n",
    "nt.from_nx(net_blf_0010)\n",
    "\n",
    "neighbor_map = nt.get_adj_list()\n",
    "nt.repulsion(node_distance=200, spring_length=80)\n",
    "\n",
    "for node in nt.nodes:\n",
    "    node['value'] = len(neighbor_map[node['id']])\n",
    "\n",
    "nt.show_buttons(filter_=True)\n",
    "nt.show('blf_0010.html')"
   ]
  },
  {
   "cell_type": "markdown",
   "metadata": {},
   "source": [
    "### Familia"
   ]
  },
  {
   "cell_type": "code",
   "execution_count": null,
   "metadata": {},
   "outputs": [],
   "source": [
    "net_familia_0010 = nx.Graph()\n",
    "sXy_familia_0010 = pd.read_csv('/Users/emanuele/Desktop/SNA/PROGETTO/state_year_Familia_F0010.txt')\n",
    "Network_Generator_For_Cartels(net_familia_0010,sXy_familia_0010,df_F0010,'Familia')"
   ]
  },
  {
   "cell_type": "code",
   "execution_count": null,
   "metadata": {},
   "outputs": [],
   "source": [
    "metrics(net_familia_0010,all_metrics=True)"
   ]
  },
  {
   "cell_type": "code",
   "execution_count": null,
   "metadata": {},
   "outputs": [],
   "source": [
    "nt = Network('1000px','1000px')\n",
    "\n",
    "nt.from_nx(net_familia_0010)\n",
    "\n",
    "neighbor_map = nt.get_adj_list()\n",
    "nt.repulsion(node_distance=200, spring_length=80)\n",
    "\n",
    "for node in nt.nodes:\n",
    "    node['value'] = len(neighbor_map[node['id']])\n",
    "\n",
    "nt.show_buttons(filter_=True)\n",
    "nt.show('familia_0010.html')"
   ]
  },
  {
   "cell_type": "markdown",
   "metadata": {},
   "source": [
    "### Juarez"
   ]
  },
  {
   "cell_type": "code",
   "execution_count": null,
   "metadata": {},
   "outputs": [],
   "source": [
    "net_juarez_9000 = nx.Graph()\n",
    "sXy_juarez_9000 = pd.read_csv('/Users/emanuele/Desktop/SNA/PROGETTO/state_year_Juarez_J9000.txt')\n",
    "Network_Generator_For_Cartels(net_juarez_9000,sXy_juarez_9000,df_J9000,'Juarez')"
   ]
  },
  {
   "cell_type": "code",
   "execution_count": null,
   "metadata": {},
   "outputs": [],
   "source": [
    "nt = Network('1000px', '1000px')\n",
    "nt.from_nx(net_juarez_9000, default_edge_weight=3,show_edge_weights=True)\n",
    "nt.show('juarez_9000.html')"
   ]
  },
  {
   "cell_type": "code",
   "execution_count": null,
   "metadata": {},
   "outputs": [],
   "source": [
    "all_weights=[]\n",
    "for (node1,node2,data) in net_juarez_9000.edges(data=True):\n",
    "        all_weights.append(data['weight']) \n",
    "\n",
    "nodes_color=[]\n",
    "for (node1,data) in net_juarez_9000.nodes(data=True):\n",
    "        nodes_color.append(data['color']) \n",
    "\n",
    "\n",
    "unique_weights = list(set(all_weights))\n",
    "\n",
    "pos = nx.spring_layout(net_juarez_9000,seed=1234)\n",
    "\n",
    "for weight in unique_weights:\n",
    "        weighted_edges = [(node1,node2) for (node1,node2,edge_attr) in net_juarez_9000.edges(data=True) if edge_attr['weight']==weight]\n",
    "        width = weight\n",
    "        nx.draw_networkx_edges(net_juarez_9000,pos,edgelist=weighted_edges,width=width)\n",
    "\n",
    "nx.draw_networkx_nodes(net_juarez_9000,pos,node_color=nodes_color, node_size=4000)\n",
    "nx.draw_networkx_labels(net_juarez_9000,pos,font_size=15, font_family=\"sans-serif\")\n",
    "plt.rcParams[\"figure.figsize\"] = (25,25)\n",
    "\n",
    "pass"
   ]
  },
  {
   "cell_type": "code",
   "execution_count": null,
   "metadata": {},
   "outputs": [],
   "source": [
    "metrics(net_juarez_9000,all_metrics=True)"
   ]
  },
  {
   "cell_type": "code",
   "execution_count": null,
   "metadata": {},
   "outputs": [],
   "source": [
    "net_juarez_0010 = nx.Graph()\n",
    "sXy_juarez_0010 = pd.read_csv('/Users/emanuele/Desktop/SNA/PROGETTO/state_year_Juarez_J0010.txt')\n",
    "Network_Generator_For_Cartels(net_juarez_0010,sXy_juarez_0010,df_J0010,'Juarez')"
   ]
  },
  {
   "cell_type": "code",
   "execution_count": null,
   "metadata": {},
   "outputs": [],
   "source": [
    "metrics(net_juarez_0010,all_metrics=True)"
   ]
  },
  {
   "cell_type": "code",
   "execution_count": null,
   "metadata": {},
   "outputs": [],
   "source": [
    "nt = Network('1000px','1000px')\n",
    "\n",
    "nt.from_nx(net_juarez_0010)\n",
    "\n",
    "neighbor_map = nt.get_adj_list()\n",
    "nt.repulsion(node_distance=200, spring_length=80)\n",
    "\n",
    "for node in nt.nodes:\n",
    "    node['value'] = len(neighbor_map[node['id']])\n",
    "\n",
    "nt.show_buttons(filter_=True)\n",
    "nt.show('juarez_0010.html')"
   ]
  },
  {
   "cell_type": "markdown",
   "metadata": {},
   "source": [
    "### Sinaloa"
   ]
  },
  {
   "cell_type": "code",
   "execution_count": null,
   "metadata": {},
   "outputs": [],
   "source": [
    "net_sinaloa_9000 = nx.Graph()\n",
    "sXy_sinaloa_9000 = pd.read_csv('/Users/emanuele/Desktop/SNA/PROGETTO/state_year_Sinaloa_S9000.txt')\n",
    "Network_Generator_For_Cartels(net_sinaloa_9000,sXy_sinaloa_9000,df_S9000,'Sinaloa')"
   ]
  },
  {
   "cell_type": "code",
   "execution_count": null,
   "metadata": {},
   "outputs": [],
   "source": [
    "nt = Network('1000px', '1000px')\n",
    "nt.from_nx(net_sinaloa_9000, default_edge_weight=3,show_edge_weights=True)\n",
    "nt.show('sinaloa_9000.html')"
   ]
  },
  {
   "cell_type": "code",
   "execution_count": null,
   "metadata": {},
   "outputs": [],
   "source": [
    "all_weights=[]\n",
    "for (node1,node2,data) in net_sinaloa_9000.edges(data=True):\n",
    "        all_weights.append(data['weight']) \n",
    "\n",
    "nodes_color=[]\n",
    "for (node1,data) in net_sinaloa_9000.nodes(data=True):\n",
    "        nodes_color.append(data['color']) \n",
    "\n",
    "\n",
    "unique_weights = list(set(all_weights))\n",
    "\n",
    "pos = nx.spring_layout(net_sinaloa_9000,seed=1234)\n",
    "\n",
    "for weight in unique_weights:\n",
    "        weighted_edges = [(node1,node2) for (node1,node2,edge_attr) in net_sinaloa_9000.edges(data=True) if edge_attr['weight']==weight]\n",
    "        width = weight\n",
    "        nx.draw_networkx_edges(net_sinaloa_9000,pos,edgelist=weighted_edges,width=width)\n",
    "\n",
    "nx.draw_networkx_nodes(net_sinaloa_9000,pos,node_color=nodes_color, node_size=4000)\n",
    "nx.draw_networkx_labels(net_sinaloa_9000,pos,font_size=15, font_family=\"sans-serif\")\n",
    "plt.rcParams[\"figure.figsize\"] = (25,25)\n",
    "\n",
    "pass"
   ]
  },
  {
   "cell_type": "code",
   "execution_count": null,
   "metadata": {},
   "outputs": [],
   "source": [
    "metrics(net_sinaloa_9000,all_metrics=True)"
   ]
  },
  {
   "cell_type": "code",
   "execution_count": null,
   "metadata": {},
   "outputs": [],
   "source": [
    "net_sinaloa_0010 = nx.Graph()\n",
    "sXy_sinaloa_0010 = pd.read_csv('/Users/emanuele/Desktop/SNA/PROGETTO/state_year_Sinaloa_S0010.txt')\n",
    "Network_Generator_For_Cartels(net_sinaloa_0010,sXy_sinaloa_0010,df_S0010,'Sinaloa')"
   ]
  },
  {
   "cell_type": "code",
   "execution_count": null,
   "metadata": {},
   "outputs": [],
   "source": [
    "nt = Network('1000px','1000px')\n",
    "\n",
    "nt.from_nx(net_sinaloa_0010)\n",
    "\n",
    "neighbor_map = nt.get_adj_list()\n",
    "nt.repulsion(node_distance=200, spring_length=80)\n",
    "\n",
    "for node in nt.nodes:\n",
    "    node['value'] = len(neighbor_map[node['id']])\n",
    "\n",
    "nt.show_buttons(filter_=True)\n",
    "nt.show('sinaloa_0010.html')"
   ]
  },
  {
   "cell_type": "code",
   "execution_count": null,
   "metadata": {},
   "outputs": [],
   "source": [
    "metrics(net_sinaloa_0010,all_metrics=True)"
   ]
  },
  {
   "cell_type": "markdown",
   "metadata": {},
   "source": [
    "### Sinaloa Family"
   ]
  },
  {
   "cell_type": "code",
   "execution_count": null,
   "metadata": {},
   "outputs": [],
   "source": [
    "net_sf_0010 = nx.Graph()\n",
    "sXy_sf_0010 = pd.read_csv('/Users/emanuele/Desktop/SNA/PROGETTO/state_year_Sinaloa_Family_SF0010.txt')\n",
    "Network_Generator_For_Cartels(net_sf_0010,sXy_sf_0010,df_SF0010,'Sinaloa_Family')"
   ]
  },
  {
   "cell_type": "code",
   "execution_count": null,
   "metadata": {},
   "outputs": [],
   "source": [
    "nt = Network('1000px','1000px')\n",
    "\n",
    "nt.from_nx(net_sf_0010)\n",
    "\n",
    "neighbor_map = nt.get_adj_list()\n",
    "nt.repulsion(node_distance=200, spring_length=80)\n",
    "\n",
    "for node in nt.nodes:\n",
    "    node['value'] = len(neighbor_map[node['id']])\n",
    "\n",
    "nt.show_buttons(filter_=True)\n",
    "nt.show('sf_0010.html')"
   ]
  },
  {
   "cell_type": "markdown",
   "metadata": {},
   "source": [
    "### Tijuana"
   ]
  },
  {
   "cell_type": "code",
   "execution_count": null,
   "metadata": {},
   "outputs": [],
   "source": [
    "net_tijuana_9000 = nx.Graph()\n",
    "sXy_tijuana_9000 = pd.read_csv('/Users/emanuele/Desktop/SNA/PROGETTO/state_year_Tijuana_T9000.txt')\n",
    "Network_Generator_For_Cartels(net_tijuana_9000,sXy_tijuana_9000,df_T9000,'Tijuana')"
   ]
  },
  {
   "cell_type": "code",
   "execution_count": null,
   "metadata": {},
   "outputs": [],
   "source": [
    "nt = Network('1000px', '1000px')\n",
    "nt.from_nx(net_tijuana_9000, default_edge_weight=3,show_edge_weights=True)\n",
    "nt.show('tijuana_9000.html')"
   ]
  },
  {
   "cell_type": "code",
   "execution_count": null,
   "metadata": {},
   "outputs": [],
   "source": [
    "all_weights=[]\n",
    "for (node1,node2,data) in net_tijuana_9000.edges(data=True):\n",
    "        all_weights.append(data['weight']) \n",
    "\n",
    "nodes_color=[]\n",
    "for (node1,data) in net_tijuana_9000.nodes(data=True):\n",
    "        nodes_color.append(data['color']) \n",
    "\n",
    "\n",
    "unique_weights = list(set(all_weights))\n",
    "\n",
    "pos = nx.spring_layout(net_tijuana_9000,seed=1234)\n",
    "\n",
    "for weight in unique_weights:\n",
    "        weighted_edges = [(node1,node2) for (node1,node2,edge_attr) in net_tijuana_9000.edges(data=True) if edge_attr['weight']==weight]\n",
    "        width = weight\n",
    "        nx.draw_networkx_edges(net_tijuana_9000,pos,edgelist=weighted_edges,width=width)\n",
    "\n",
    "nx.draw_networkx_nodes(net_tijuana_9000,pos,node_color=nodes_color, node_size=4000)\n",
    "nx.draw_networkx_labels(net_tijuana_9000,pos,font_size=15, font_family=\"sans-serif\")\n",
    "plt.rcParams[\"figure.figsize\"] = (25,25)\n",
    "\n",
    "pass"
   ]
  },
  {
   "cell_type": "code",
   "execution_count": null,
   "metadata": {},
   "outputs": [],
   "source": [
    "metrics(net_tijuana_9000,all_metrics=True)"
   ]
  },
  {
   "cell_type": "code",
   "execution_count": null,
   "metadata": {},
   "outputs": [],
   "source": [
    "net_tijuana_0010 = nx.Graph()\n",
    "sXy_tijuana_0010 = pd.read_csv('/Users/emanuele/Desktop/SNA/PROGETTO/state_year_Tijuana_T0010.txt')\n",
    "Network_Generator_For_Cartels(net_tijuana_0010,sXy_tijuana_0010,df_T0010,'Tijuana')"
   ]
  },
  {
   "cell_type": "code",
   "execution_count": null,
   "metadata": {},
   "outputs": [],
   "source": [
    "nt = Network('1000px','1000px')\n",
    "\n",
    "nt.from_nx(net_tijuana_0010)\n",
    "\n",
    "neighbor_map = nt.get_adj_list()\n",
    "nt.repulsion(node_distance=200, spring_length=80)\n",
    "\n",
    "for node in nt.nodes:\n",
    "    node['value'] = len(neighbor_map[node['id']])\n",
    "\n",
    "nt.show_buttons(filter_=True)\n",
    "nt.show('tijuana_0010.html')"
   ]
  },
  {
   "cell_type": "code",
   "execution_count": null,
   "metadata": {},
   "outputs": [],
   "source": [
    "metrics(net_tijuana_0010,all_metrics=True)"
   ]
  },
  {
   "cell_type": "markdown",
   "metadata": {},
   "source": [
    "### Zetas"
   ]
  },
  {
   "cell_type": "code",
   "execution_count": null,
   "metadata": {},
   "outputs": [],
   "source": [
    "net_zetas_9000 = nx.Graph()\n",
    "sXy_zetas_9000 = pd.read_csv('/Users/emanuele/Desktop/SNA/PROGETTO/state_year_Zetas_Z9000.txt')\n",
    "Network_Generator_For_Cartels(net_zetas_9000,sXy_zetas_9000,df_Z9000,'Zetas')"
   ]
  },
  {
   "cell_type": "code",
   "execution_count": null,
   "metadata": {},
   "outputs": [],
   "source": [
    "nt = Network('1000px', '1000px')\n",
    "nt.from_nx(net_zetas_9000, default_edge_weight=3,show_edge_weights=True)\n",
    "nt.show('zetas_9000.html')"
   ]
  },
  {
   "cell_type": "code",
   "execution_count": null,
   "metadata": {},
   "outputs": [],
   "source": [
    "all_weights=[]\n",
    "for (node1,node2,data) in net_zetas_9000.edges(data=True):\n",
    "        all_weights.append(data['weight']) \n",
    "\n",
    "nodes_color=[]\n",
    "for (node1,data) in net_zetas_9000.nodes(data=True):\n",
    "        nodes_color.append(data['color']) \n",
    "\n",
    "\n",
    "unique_weights = list(set(all_weights))\n",
    "\n",
    "pos = nx.spring_layout(net_zetas_9000,seed=1234)\n",
    "\n",
    "for weight in unique_weights:\n",
    "        weighted_edges = [(node1,node2) for (node1,node2,edge_attr) in net_zetas_9000.edges(data=True) if edge_attr['weight']==weight]\n",
    "        width = weight\n",
    "        nx.draw_networkx_edges(net_zetas_9000,pos,edgelist=weighted_edges,width=width)\n",
    "\n",
    "nx.draw_networkx_nodes(net_zetas_9000,pos,node_color=nodes_color, node_size=4000)\n",
    "nx.draw_networkx_labels(net_zetas_9000,pos,font_size=15, font_family=\"sans-serif\")\n",
    "plt.rcParams[\"figure.figsize\"] = (25,25)\n",
    "\n",
    "pass"
   ]
  },
  {
   "cell_type": "code",
   "execution_count": null,
   "metadata": {},
   "outputs": [],
   "source": [
    "metrics(net_zetas_9000,all_metrics=True)"
   ]
  },
  {
   "cell_type": "code",
   "execution_count": null,
   "metadata": {},
   "outputs": [],
   "source": [
    "net_zetas_0010 = nx.Graph()\n",
    "sXy_zetas_0010 = pd.read_csv('/Users/emanuele/Desktop/SNA/PROGETTO/state_year_Zetas_Z0010.txt')\n",
    "Network_Generator_For_Cartels(net_zetas_0010,sXy_zetas_0010,df_Z0010,'Zetas')"
   ]
  },
  {
   "cell_type": "code",
   "execution_count": null,
   "metadata": {},
   "outputs": [],
   "source": [
    "nt = Network('1000px','1000px')\n",
    "\n",
    "nt.from_nx(net_zetas_0010)\n",
    "\n",
    "neighbor_map = nt.get_adj_list()\n",
    "nt.repulsion(node_distance=200, spring_length=80)\n",
    "\n",
    "for node in nt.nodes:\n",
    "    node['value'] = len(neighbor_map[node['id']])\n",
    "\n",
    "nt.show_buttons(filter_=True)\n",
    "nt.show('zetas_0010.html')"
   ]
  },
  {
   "cell_type": "code",
   "execution_count": null,
   "metadata": {},
   "outputs": [],
   "source": [
    "metrics(net_zetas_0010,all_metrics=True)"
   ]
  },
  {
   "cell_type": "markdown",
   "metadata": {},
   "source": [
    "### Otros"
   ]
  },
  {
   "cell_type": "code",
   "execution_count": null,
   "metadata": {},
   "outputs": [],
   "source": [
    "net_otros_0010 = nx.Graph()\n",
    "sXy_otros_0010 = pd.read_csv('/Users/emanuele/Desktop/SNA/PROGETTO/state_year_otros_O0010.txt')\n",
    "Network_Generator_For_Cartels(net_otros_0010,sXy_otros_0010,df_O0010,'Otros')"
   ]
  },
  {
   "cell_type": "code",
   "execution_count": null,
   "metadata": {},
   "outputs": [],
   "source": [
    "nt = Network('1000px','1000px')\n",
    "\n",
    "nt.from_nx(net_otros_0010)\n",
    "\n",
    "neighbor_map = nt.get_adj_list()\n",
    "nt.repulsion(node_distance=200, spring_length=80)\n",
    "\n",
    "for node in nt.nodes:\n",
    "    node['value'] = len(neighbor_map[node['id']])\n",
    "\n",
    "nt.show_buttons(filter_=True)\n",
    "nt.show('otros_0010.html')"
   ]
  },
  {
   "cell_type": "markdown",
   "metadata": {},
   "source": [
    "## NETWORK FAMIGLIE"
   ]
  },
  {
   "cell_type": "code",
   "execution_count": null,
   "metadata": {},
   "outputs": [],
   "source": [
    "y_1992 = Edges_Only_Cartel_Network_Final(dta_9000,'network_cartels_1992','network_cartels_1992',1992)\n",
    "y_1993 = Edges_Only_Cartel_Network_Final(dta_9000,'network_cartels_1993','network_cartels_1993',1993)\n",
    "y_1994 = Edges_Only_Cartel_Network_Final(dta_9000,'network_cartels_1994','network_cartels_1994',1994)\n",
    "y_1995 = Edges_Only_Cartel_Network_Final(dta_9000,'network_cartels_1995','network_cartels_1995',1995)\n",
    "y_1996 = Edges_Only_Cartel_Network_Final(dta_9000,'network_cartels_1996','network_cartels_1996',1996)\n",
    "y_1997 = Edges_Only_Cartel_Network_Final(dta_9000,'network_cartels_1997','network_cartels_1997',1997)\n",
    "y_1998 = Edges_Only_Cartel_Network_Final(dta_9000,'network_cartels_1998','network_cartels_1998',1998)\n",
    "y_1999 = Edges_Only_Cartel_Network_Final(dta_9000,'network_cartels_1999','network_cartels_1999',1999)\n",
    "\n",
    "y_9000 = pd.concat([y_1992,y_1993,y_1994,y_1995,y_1996,y_1997,y_1998,y_1999])\n",
    "\n",
    "y_2000 = Edges_Only_Cartel_Network_Final(dta_0010,'network_cartels_2000','network_cartels_2000',2000)\n",
    "y_2001 = Edges_Only_Cartel_Network_Final(dta_0010,'network_cartels_2001','network_cartels_2001',2001)\n",
    "y_2002 = Edges_Only_Cartel_Network_Final(dta_0010,'network_cartels_2002','network_cartels_2002',2002)\n",
    "y_2003 = Edges_Only_Cartel_Network_Final(dta_0010,'network_cartels_2003','network_cartels_2003',2003)\n",
    "y_2004 = Edges_Only_Cartel_Network_Final(dta_0010,'network_cartels_2004','network_cartels_2004',2004)\n",
    "y_2005 = Edges_Only_Cartel_Network_Final(dta_0010,'network_cartels_2005','network_cartels_2005',2005)\n",
    "y_2006 = Edges_Only_Cartel_Network_Final(dta_0010,'network_cartels_2006','network_cartels_2006',2006)\n",
    "y_2007 = Edges_Only_Cartel_Network_Final(dta_0010,'network_cartels_2007','network_cartels_2007',2007)\n",
    "y_2008 = Edges_Only_Cartel_Network_Final(dta_0010,'network_cartels_2008','network_cartels_2008',2008)\n",
    "y_2009 = Edges_Only_Cartel_Network_Final(dta_0010,'network_cartels_2009','network_cartels_2009',2009)\n",
    "y_2010 = Edges_Only_Cartel_Network_Final(dta_0010,'network_cartels_2010','network_cartels_2010',2010)\n",
    "\n",
    "y_0010 = pd.concat([y_2000,y_2001,y_2002,y_2003,y_2004,y_2005,y_2006,y_2007,y_2008,y_2009,y_2010])\n",
    "\n"
   ]
  },
  {
   "cell_type": "code",
   "execution_count": null,
   "metadata": {},
   "outputs": [],
   "source": [
    "bi_grams_9000 = BiGram_Generator_Counter(y_9000)\n",
    "bi_grams_0010 = BiGram_Generator_Counter(y_0010)"
   ]
  },
  {
   "cell_type": "code",
   "execution_count": null,
   "metadata": {},
   "outputs": [],
   "source": [
    "bi_grams_9000.sort_values(by='W',ascending=False)"
   ]
  },
  {
   "cell_type": "code",
   "execution_count": null,
   "metadata": {},
   "outputs": [],
   "source": [
    "bi_grams_0010.sort_values(by='W',ascending=False)"
   ]
  },
  {
   "cell_type": "code",
   "execution_count": null,
   "metadata": {},
   "outputs": [],
   "source": [
    "a = bi_grams_0010[['A','W']].groupby(['A']).sum()"
   ]
  },
  {
   "cell_type": "code",
   "execution_count": null,
   "metadata": {},
   "outputs": [],
   "source": [
    "b = bi_grams_0010[['B','W']].groupby(['B']).sum()"
   ]
  },
  {
   "cell_type": "code",
   "execution_count": null,
   "metadata": {},
   "outputs": [],
   "source": [
    "a.to_csv('a.csv')\n",
    "b.to_csv('b.csv')"
   ]
  },
  {
   "cell_type": "code",
   "execution_count": null,
   "metadata": {},
   "outputs": [],
   "source": [
    "a = pd.read_csv('a.csv')\n",
    "b = pd.read_csv('b.csv')\n",
    "\n",
    "a.rename(columns = {'A':'DTO'}, inplace = True)\n",
    "b.rename(columns = {'B':'DTO'}, inplace = True)"
   ]
  },
  {
   "cell_type": "code",
   "execution_count": null,
   "metadata": {},
   "outputs": [],
   "source": [
    "ff = [a,b]\n",
    "f = pd.concat(ff)\n",
    "f = f.groupby('DTO').sum().sort_values(by='W',ascending=False)\n",
    "f.to_csv('f.csv')\n",
    "f = pd.read_csv('f.csv')"
   ]
  },
  {
   "cell_type": "code",
   "execution_count": null,
   "metadata": {},
   "outputs": [],
   "source": [
    "f"
   ]
  },
  {
   "cell_type": "code",
   "execution_count": null,
   "metadata": {},
   "outputs": [],
   "source": [
    "net_9000 = nx.Graph()\n",
    "Network_Cartels_Meeting_Generator(bi_grams_9000,net_9000,'#0ee5ba')\n",
    "\n",
    "net_0010 = nx.Graph()\n",
    "Network_Cartels_Meeting_Generator(bi_grams_0010,net_0010,'#0ee5ba')"
   ]
  },
  {
   "cell_type": "code",
   "execution_count": null,
   "metadata": {},
   "outputs": [],
   "source": [
    "options = {\n",
    "    \"node_color\" : '#0ee5ba', \n",
    "    \"node_size\" : 4000,\n",
    "    \"font_color\" : 'black', \n",
    "    \"font_size\" : 16\n",
    "}\n",
    "\n",
    "pos=nx.circular_layout(net_9000)\n",
    "all_weights=[]\n",
    "for (node1,node2,data) in net_9000.edges(data=True):\n",
    "        all_weights.append(data['weight']) #we'll use this when determining edge thickness\n",
    "unique_weights = list(set(all_weights))\n",
    "for weight in unique_weights:\n",
    "        #4 d. Form a filtered list with just the weight you want to draw\n",
    "        weighted_edges = [(node1,node2) for (node1,node2,edge_attr) in net_9000.edges(data=True) if edge_attr['weight']==weight]\n",
    "        width = weight\n",
    "        nx.draw_networkx_edges(net_9000,pos,edgelist=weighted_edges,width=width)\n",
    "nx.draw(net_9000, pos, with_labels=True,**options)\n",
    "plt.rcParams[\"figure.figsize\"] = (15,10)\n",
    "plt.show()"
   ]
  },
  {
   "cell_type": "code",
   "execution_count": null,
   "metadata": {},
   "outputs": [],
   "source": [
    "metrics(net_9000, all_metrics=True)"
   ]
  },
  {
   "cell_type": "code",
   "execution_count": null,
   "metadata": {},
   "outputs": [],
   "source": [
    "nx.betweenness_centrality(net_9000, weight='weight')"
   ]
  },
  {
   "cell_type": "code",
   "execution_count": null,
   "metadata": {},
   "outputs": [],
   "source": [
    "tante = [(u, v) for (u, v, d) in net_0010.edges(data=True) if d[\"weight\"] > 100 and d[\"weight\"] < 150]\n",
    "poche = [(u, v) for (u, v, d) in net_0010.edges(data=True) if d[\"weight\"] <= 100 and d[\"weight\"] > 50]\n",
    "lot = [(u, v) for (u, v, d) in net_0010.edges(data=True) if d[\"weight\"] >= 150]\n",
    "non_troppe = [(u, v) for (u, v, d) in net_0010.edges(data=True) if d[\"weight\"] <= 50]\n",
    "\n",
    "#pos = nx.circular_layout(net_0010)\n",
    "#nx.draw_networkx_nodes(G,pos, node_color= '#0ee5ba', node_size=4000)\n",
    "# edges\n",
    "nx.draw_networkx_edges(net_0010, pos, edgelist=tante, width=6,edge_color=\"#e5b31c\")\n",
    "nx.draw_networkx_edges(net_0010, pos, edgelist=poche, width=6 , edge_color=\"#4bf542\")\n",
    "nx.draw_networkx_edges(net_0010, pos, edgelist=lot, width=6, edge_color='#e70606' )\n",
    "nx.draw_networkx_edges(net_0010, pos, edgelist=non_troppe, width=6,alpha=0.5, edge_color='#909090')\n",
    "\n",
    "nx.draw(net_0010, pos, with_labels=True,**options)\n",
    "\n",
    "plt.rcParams[\"figure.figsize\"] = (15,10)\n",
    "plt.show()"
   ]
  },
  {
   "cell_type": "code",
   "execution_count": null,
   "metadata": {},
   "outputs": [],
   "source": [
    "metrics(net_0010, all_metrics=True)"
   ]
  },
  {
   "cell_type": "code",
   "execution_count": null,
   "metadata": {},
   "outputs": [],
   "source": [
    "non_troppe[0][0]"
   ]
  },
  {
   "cell_type": "code",
   "execution_count": null,
   "metadata": {},
   "outputs": [],
   "source": [
    "pp = net_0010\n",
    "\n",
    "for i in range(len(non_troppe)):\n",
    "\n",
    "    for ii in non_troppe[i]:\n",
    "        pp.remove_edge(ii[0],ii[1])"
   ]
  }
 ],
 "metadata": {
  "interpreter": {
   "hash": "28db2cdea796381823031ea64014c20b5b1d93b04c2797bd17c518394bba0663"
  },
  "kernelspec": {
   "display_name": "Python 3.9.7 ('base')",
   "language": "python",
   "name": "python3"
  },
  "language_info": {
   "codemirror_mode": {
    "name": "ipython",
    "version": 3
   },
   "file_extension": ".py",
   "mimetype": "text/x-python",
   "name": "python",
   "nbconvert_exporter": "python",
   "pygments_lexer": "ipython3",
   "version": "3.9.7"
  },
  "orig_nbformat": 4
 },
 "nbformat": 4,
 "nbformat_minor": 2
}
